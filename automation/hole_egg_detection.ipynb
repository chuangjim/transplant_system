{
 "cells": [
  {
   "cell_type": "code",
   "execution_count": 9,
   "metadata": {},
   "outputs": [],
   "source": [
    "import cv2\n",
    "import matplotlib.pyplot as plt\n",
    "def show_rgb(img):\n",
    "    img_2 = img[:,:,::-1]\n",
    "    plt.imshow(img_2)\n",
    "    plt.show()\n",
    "def show(img):\n",
    "    plt.imshow(img,cmap='gray')\n",
    "    plt.show()\n",
    "img = cv2.imread(r'D:\\Desktop\\莊詠竣\\transplant_system\\transplant_system\\automation\\img\\inhold_egg\\dataset_32\\413.jpg')"
   ]
  },
  {
   "cell_type": "code",
   "execution_count": 10,
   "metadata": {},
   "outputs": [
    {
     "name": "stdout",
     "output_type": "stream",
     "text": [
      "None\n"
     ]
    }
   ],
   "source": [
    "print(img)"
   ]
  },
  {
   "cell_type": "code",
   "execution_count": 22,
   "metadata": {},
   "outputs": [
    {
     "name": "stdout",
     "output_type": "stream",
     "text": [
      "Requirement already satisfied: matplotlib in c:\\users\\h\\anaconda3\\envs\\lacewing\\lib\\site-packages (3.5.2)\n",
      "Requirement already satisfied: fonttools>=4.22.0 in c:\\users\\h\\anaconda3\\envs\\lacewing\\lib\\site-packages (from matplotlib) (4.34.4)\n",
      "Requirement already satisfied: kiwisolver>=1.0.1 in c:\\users\\h\\anaconda3\\envs\\lacewing\\lib\\site-packages (from matplotlib) (1.4.4)\n",
      "Requirement already satisfied: pillow>=6.2.0 in c:\\users\\h\\anaconda3\\envs\\lacewing\\lib\\site-packages (from matplotlib) (9.2.0)\n",
      "Requirement already satisfied: python-dateutil>=2.7 in c:\\users\\h\\anaconda3\\envs\\lacewing\\lib\\site-packages (from matplotlib) (2.8.2)\n",
      "Requirement already satisfied: pyparsing>=2.2.1 in c:\\users\\h\\anaconda3\\envs\\lacewing\\lib\\site-packages (from matplotlib) (3.0.9)\n",
      "Requirement already satisfied: cycler>=0.10 in c:\\users\\h\\anaconda3\\envs\\lacewing\\lib\\site-packages (from matplotlib) (0.11.0)\n",
      "Requirement already satisfied: packaging>=20.0 in c:\\users\\h\\anaconda3\\envs\\lacewing\\lib\\site-packages (from matplotlib) (21.3)\n",
      "Requirement already satisfied: numpy>=1.17 in c:\\users\\h\\anaconda3\\envs\\lacewing\\lib\\site-packages (from matplotlib) (1.23.1)\n",
      "Requirement already satisfied: six>=1.5 in c:\\users\\h\\anaconda3\\envs\\lacewing\\lib\\site-packages (from python-dateutil>=2.7->matplotlib) (1.16.0)\n"
     ]
    }
   ],
   "source": [
    "!pip install matplotlib"
   ]
  },
  {
   "cell_type": "code",
   "execution_count": null,
   "metadata": {},
   "outputs": [],
   "source": []
  }
 ],
 "metadata": {
  "kernelspec": {
   "display_name": "Python 3.9.12 ('lacewing')",
   "language": "python",
   "name": "python3"
  },
  "language_info": {
   "codemirror_mode": {
    "name": "ipython",
    "version": 3
   },
   "file_extension": ".py",
   "mimetype": "text/x-python",
   "name": "python",
   "nbconvert_exporter": "python",
   "pygments_lexer": "ipython3",
   "version": "3.9.12"
  },
  "orig_nbformat": 4,
  "vscode": {
   "interpreter": {
    "hash": "8564fbfaafa17680fd210ebf3abcad3eb58b2f5140f33298aa9f0aa29b655e27"
   }
  }
 },
 "nbformat": 4,
 "nbformat_minor": 2
}
